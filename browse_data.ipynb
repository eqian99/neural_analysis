{
 "cells": [
  {
   "cell_type": "code",
   "execution_count": 54,
   "metadata": {},
   "outputs": [],
   "source": [
    "import scipy.io as sio\n",
    "import numpy as np\n",
    "import os\n",
    "import matplotlib\n",
    "import matplotlib.pyplot as plt"
   ]
  },
  {
   "cell_type": "code",
   "execution_count": 2,
   "metadata": {},
   "outputs": [
    {
     "data": {
      "text/plain": [
       "dict_keys(['__header__', '__version__', '__globals__', 'datainfo', 'stimulus', 'spikes'])"
      ]
     },
     "execution_count": 2,
     "metadata": {},
     "output_type": "execute_result"
    }
   ],
   "source": [
    "data = sio.loadmat(os.path.join('Data','20080516_R1.mat'),struct_as_record=False,squeeze_me=True)\n",
    "i = 0 \n",
    "data.keys()"
   ]
  },
  {
   "cell_type": "code",
   "execution_count": 14,
   "metadata": {},
   "outputs": [
    {
     "data": {
      "text/plain": [
       "dict_keys(['__header__', '__version__', '__globals__', 'r'])"
      ]
     },
     "execution_count": 14,
     "metadata": {},
     "output_type": "execute_result"
    }
   ],
   "source": [
    "data_2 = sio.loadmat('stimulus.mat',struct_as_record=False,squeeze_me=True)\n",
    "data_2.keys()"
   ]
  },
  {
   "cell_type": "code",
   "execution_count": 15,
   "metadata": {},
   "outputs": [
    {
     "data": {
      "text/plain": [
       "{'_fieldnames': ['type', 'onset', 'frame', 'Nframes', 'pixelsize', 'param'],\n",
       " 'type': 'binarywhitenoise',\n",
       " 'onset': 1.2375,\n",
       " 'frame': 0.016671788281371697,\n",
       " 'Nframes': 89899,\n",
       " 'pixelsize': 8.3,\n",
       " 'param': <scipy.io.matlab.mio5_params.mat_struct at 0x1bb7ed4eba8>}"
      ]
     },
     "execution_count": 15,
     "metadata": {},
     "output_type": "execute_result"
    }
   ],
   "source": [
    "stimulus = data['stimulus']\n",
    "spikes   = data['spikes']\n",
    "datainfo = data['datainfo']\n",
    "r = data_2['r']\n",
    "{key: value for key, value in stimulus[0].__dict__.items()} #easy way to see what's inside one of our variables"
   ]
  },
  {
   "cell_type": "code",
   "execution_count": 4,
   "metadata": {},
   "outputs": [],
   "source": [
    "time = np.arange(0,stimulus[i].Nframes) * stimulus[i].frame + stimulus[i].onset\n",
    "N = len(time)-1"
   ]
  },
  {
   "cell_type": "code",
   "execution_count": 83,
   "metadata": {},
   "outputs": [
    {
     "data": {
      "text/plain": [
       "array([  -73,   -72,   -69, ..., 89894, 89895, 89897])"
      ]
     },
     "execution_count": 83,
     "metadata": {},
     "output_type": "execute_result"
    }
   ],
   "source": [
    "spikes_frames = np.round((spikes[0][0] - stimulus[0].onset) / stimulus[0].frame).astype(int)\n",
    "spikes_frames"
   ]
  },
  {
   "cell_type": "code",
   "execution_count": 84,
   "metadata": {},
   "outputs": [
    {
     "name": "stdout",
     "output_type": "stream",
     "text": [
      "\n"
     ]
    },
    {
     "data": {
      "text/plain": [
       "<matplotlib.image.AxesImage at 0x1bb7fb9c550>"
      ]
     },
     "execution_count": 84,
     "metadata": {},
     "output_type": "execute_result"
    },
    {
     "data": {
      "image/png": "[encoded data removed]",
      "text/plain": [
       "<Figure size 432x288 with 1 Axes>"
      ]
     },
     "metadata": {
      "needs_background": "light"
     },
     "output_type": "display_data"
    }
   ],
   "source": [
    "counter = 0\n",
    "result = np.array([[0 for i in range(60)] for j in range(640)])\n",
    "for spike in spikes_frames:\n",
    "    if spike > 60: \n",
    "        result += r[:, spike-60:spike]\n",
    "        counter += 1\n",
    "print()\n",
    "plt.imshow(result / counter)"
   ]
  }
 ],
 "metadata": {
  "kernelspec": {
   "display_name": "Python 3",
   "language": "python",
   "name": "python3"
  },
  "language_info": {
   "codemirror_mode": {
    "name": "ipython",
    "version": 3
   },
   "file_extension": ".py",
   "mimetype": "text/x-python",
   "name": "python",
   "nbconvert_exporter": "python",
   "pygments_lexer": "ipython3",
   "version": "3.6.7"
  }
 },
 "nbformat": 4,
 "nbformat_minor": 2
}
